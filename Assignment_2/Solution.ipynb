{
 "cells": [
  {
   "cell_type": "code",
   "execution_count": 98,
   "id": "6b9cba8b-37d9-4dcf-ac29-3afc47098eb1",
   "metadata": {},
   "outputs": [],
   "source": [
    "from abc import ABC, abstractclassmethod\n",
    "from typing import Dict, List, Tuple, Optional\n",
    "from collections.abc import Callable, Iterable\n",
    "from dataclasses import dataclass, field\n",
    "from functools import partial\n",
    "\n",
    "\n",
    "from random import random, shuffle\n",
    "from glob import glob\n",
    "\n",
    "\n",
    "import numpy as np\n",
    "import pandas as pd\n",
    "import statistics as stats\n",
    "\n",
    "from tqdm import tqdm\n",
    "from plotly.subplots import make_subplots\n",
    "import plotly.graph_objects as go"
   ]
  },
  {
   "cell_type": "code",
   "execution_count": 132,
   "id": "f242dba6-0525-4425-baec-3b41310d44f5",
   "metadata": {
    "tags": []
   },
   "outputs": [],
   "source": [
    "def load_csv(path: str) -> Dict[str, np.ndarray]:\n",
    "    \"\"\"Loads every csv file in the path.\"\"\"\n",
    "    dataloader = {file_path.split(\"/\")[-1].split(\".\")[0]: pd.read_csv(file_path, header=None, sep=\" \") for file_path in glob(path+\"*.csv\")}\n",
    "    return dataloader\n",
    "\n",
    "@dataclass\n",
    "class Model(ABC):\n",
    "    \"\"\"Base Representation of a Machine Learning Model.\"\"\"\n",
    "    loss: Optional[Callable[[np.ndarray, np.ndarray], np.ndarray]]\n",
    "    optimizer: Optional[Callable[[np.ndarray, np.ndarray, np.ndarray,], (np.ndarray, float)]]\n",
    "    hist: Dict[str, List]\n",
    "    learning_rate: float \n",
    "    epochs: int\n",
    "    eval_step: int\n",
    "    early_stop: bool\n",
    "    range_flag: bool\n",
    "    \n",
    "    @abstractclassmethod\n",
    "    def predict(self, X: np.ndarray) -> None:\n",
    "        \"\"\"Predicts the out come of Matrix X.\"\"\"\n",
    "        pass\n",
    "        \n",
    "    @abstractclassmethod\n",
    "    def update_weights(self, X: np.ndarray, y: np.ndarray) -> None:\n",
    "        \"\"\"Updates the weights of the model after one step or epoch.\"\"\"\n",
    "        pass\n",
    "    \n",
    "    @abstractclassmethod\n",
    "    def fit(self, X: np.ndarray, y: np.ndarray ) -> None:\n",
    "        \"\"\"trains the model using the vector features X and labels Y.\"\"\"\n",
    "        pass\n",
    "    \n",
    "    @abstractclassmethod\n",
    "    def save_hist(self, X: np.ndarray, y: np.ndarray, i: int) -> None:\n",
    "        \"\"\"Saves the parameters of the model in between updates of training.\"\"\"\n",
    "        pass\n",
    "    \n",
    "    def plot_training(self) -> go.Figure:\n",
    "        \"\"\"Animate the change of prediction of the model on training data with dimension of 1.\"\"\"\n",
    "        assert self.range_flag == False\n",
    "        fig=go.Figure().set_subplots(1,1, vertical_spacing=0.05,\n",
    "                             specs=[[{\"type\": \"scatter\", \"secondary_y\": False}]])\n",
    "        \n",
    "        # first frame of the plot\n",
    "        fig.add_trace(go.Scatter(x=self.hist[\"x_range\"], y=self.hist[\"y_range\"], name=\"train\", mode='markers'), 1,1)\n",
    "        fig.add_trace(go.Scatter(x=self.hist[\"x_range\"], y=self.hist[\"y_range\"], name=\"train\", mode='markers'), 1,1);\n",
    "\n",
    "        fig.update(frames=self.hist[\"frame\"])\n",
    "        \n",
    "        # details about the plot layout\n",
    "        sliders_dict = {\"active\": 0, \"yanchor\": \"top\", \"xanchor\": \"left\",\n",
    "                        \"currentvalue\": { \"font\": {\"size\": 20}, \"prefix\": \"Year:\", \"visible\": True, \"xanchor\": \"right\"},\n",
    "                        \"transition\": {\"duration\": 300, \"easing\": \"cubic-in-out\"}, \"pad\": {\"b\": 10, \"t\": 50}, \"len\": 0.9, \n",
    "                        \"x\": 0.1, \"y\": 0, \"steps\": []}\n",
    "\n",
    "        updatemenus_dict = {\n",
    "                \"buttons\": [{\"args\": [None, {\"frame\": {\"duration\": 500, \"redraw\": False}, \"fromcurrent\": True,\n",
    "                \"transition\": {\"duration\": 300, \"easing\": \"quadratic-in-out\"}}], \"label\": \"Play\", \"method\": \"animate\"},\n",
    "                {\"args\": [[None], {\"frame\": {\"duration\": 0, \"redraw\": False}, \"mode\": \"immediate\", \"transition\": {\"duration\": 0}}],\n",
    "                \"label\": \"Pause\", \"method\": \"animate\"}], \"direction\": \"left\", \"pad\": {\"r\": 10, \"t\": 87}, \"showactive\": True,\n",
    "                \"type\": \"buttons\", \"x\": 0.1, \"xanchor\": \"right\", \"y\": 0, \"yanchor\": \"top\",\n",
    "                }\n",
    "\n",
    "        fig.update_layout(sliders=[sliders_dict],\n",
    "                          updatemenus = [updatemenus_dict])\n",
    "\n",
    "        return fig\n",
    "    \n",
    "    def plot_history(self, keys: Iterable) -> go.Figure:\n",
    "        \"\"\"Plots the keys saved in self.hist for each epoch.\"\"\"\n",
    "        fig = make_subplots(specs=[[{\"secondary_y\": True}]])\n",
    "        for key in keys:\n",
    "            fig.add_trace(go.Scatter(x=np.arange(stop=self.epochs,),\n",
    "                                     y=self.hist[key], name=key))\n",
    "        return fig\n",
    "\n",
    "    \n",
    "class Scaler():\n",
    "    mean: float\n",
    "    std: float\n",
    "    def set_standard_scaler(self, X: np.ndarray) -> np.ndarray:\n",
    "        \"\"\"Standardize features by removing the mean and scaling to unit variance and save it for prediction time.\"\"\"\n",
    "        self.mean = np.mean(X, axis=0)\n",
    "        self.std = np.std(X, axis=0)\n",
    "        standard = (X - self.mean) / self.std\n",
    "\n",
    "        return standard\n",
    "\n",
    "    def get_standard_scaler(self, X: np.ndarray) -> np.ndarray:\n",
    "        \"\"\"Standardize features by removing the mean of training set and scaling to unit variance of training set.\"\"\"\n",
    "        standard = (X - self.mean) / self.std\n",
    "\n",
    "        return standard\n",
    "\n",
    "@dataclass\n",
    "class Layer(ABC):\n",
    "    input_size: int\n",
    "    output_size: int\n",
    "\n",
    "    @abstractclassmethod\n",
    "    def feed_forward(self, X):\n",
    "        \"\"\"computes feed forward of Layer respect to input X\"\"\"\n",
    "        pass\n",
    "\n",
    "    @abstractclassmethod\n",
    "    def backward_propagation(self, pred, learning_rate):\n",
    "        \"\"\"computes backward propagation of Layer respect to input X\"\"\"\n",
    "        pass\n",
    "    \n",
    "\n",
    "@dataclass\n",
    "class ActivationFunction(Layer):\n",
    "    activation: Callable[[np.ndarray], np.ndarray]\n",
    "    activation_prime: Callable[[np.ndarray], np.ndarray]\n",
    "    \n",
    "    def random_initializers(self) -> None:\n",
    "        pass\n",
    "        \n",
    "    def feed_forward(self, x) -> np.ndarray:\n",
    "        self.x = x.copy()\n",
    "        return self.activation(self.x)\n",
    "\n",
    "    def backward_propagation(self, dy: np.ndarray) -> np.ndarray:\n",
    "        dx = self.activation_prime(self.x) * dy\n",
    "        return dx\n",
    "\n",
    "@dataclass\n",
    "class FCLayer(Layer):\n",
    "    input_size: int\n",
    "    output_size: int\n",
    "    activation: Callable[[np.ndarray], np.ndarray]\n",
    "    activation_prime: Callable[[np.ndarray], np.ndarray]\n",
    "    \n",
    "    def random_initializers(self, std=5e-2) -> None:\n",
    "        \"\"\"Make a random start for weights and bias\"\"\"\n",
    "        self.weights = std * np.random.randn(self.input_size, self.output_size)\n",
    "        self.bias =  np.zeros((1, self.output_size))\n",
    "        \n",
    "    def feed_forward(self, x: np.ndarray) -> np.ndarray:\n",
    "        \"\"\"computes feed forward of Layer respect to input X\"\"\"\n",
    "        # print(f\"W.T={self.weights.T.shape}, x.T={x.T.shape}, b= {self.bias.shape}\")\n",
    "        self.x = x.copy()\n",
    "        self.z =  np.dot(x,self.weights)  + self.bias\n",
    "        self.a = self.activation(self.z)\n",
    "        return self.z\n",
    "        \n",
    "    def backward_propagation(self, dy: np.ndarray) -> (np.ndarray, np.ndarray, np.ndarray):\n",
    "        \"\"\"computes backward propagation of Layer respect to input X\"\"\"\n",
    "        # # print(f\"output.shape= {next_layer_error.shape}\")\n",
    "        # seperate activation function from layer because there were a logical bug I couldn't fix\n",
    "        db = dy * self.activation_prime(self.a)\n",
    "        # print(f\"error= {error.shape}, W.T= {self.weights.T.shape}\")\n",
    "        dx =  np.dot(dy, self.weights.T)\n",
    "        # print(f\"x.T={self.x.T.shape}, error= {error.shape}\")\n",
    "        dW = np.dot(self.x.T, dy)\n",
    "        \n",
    "\n",
    "        return dW, db, dx\n",
    "    \n",
    "\n",
    "@dataclass\n",
    "class MLP(Model):\n",
    "    \"\"\"Simple MLP Impelementation\"\"\"\n",
    "    layers: List[Layer]\n",
    "    loss_prime: Callable[[np.ndarray], np.ndarray]\n",
    "    \n",
    "    def zero_grads(self) -> None:\n",
    "        for layer in self.layers:\n",
    "            layer.x= 0\n",
    "            layer.z= 0\n",
    "    \n",
    "    def forward(self, x: np.ndarray) -> np.ndarray:\n",
    "        output = x\n",
    "        for layer in self.layers:\n",
    "            output = layer.feed_forward(output)\n",
    "        return output\n",
    "    \n",
    "    def backward(self, dy: float) -> (List[float], List[float]):\n",
    "        output = dy\n",
    "        dW, db = [], []\n",
    "        for layer in self.layers[::-1]:\n",
    "            output = layer.backward_propagation(output)\n",
    "            dW.append(output[0])\n",
    "            db.append(output[1])\n",
    "            output = output[2]\n",
    "            \n",
    "        return dW, db\n",
    "    \n",
    "    def predict(self, X: np.ndarray) -> List[float]:\n",
    "        \"\"\"Predicts the out come of Matrix X.\"\"\"\n",
    "        preds = []\n",
    "\n",
    "        for i in range(X.shape[0]):\n",
    "            preds.append(self.forward(X[i]))\n",
    "\n",
    "        return preds\n",
    "        \n",
    "    def update_weights(self, dW: List[float], db: List[float]) -> None:\n",
    "        \"\"\"Updates the weights of the model after one step or epoch.\"\"\"\n",
    "\n",
    "        # print(f\"#layers= {len(self.layers)}, #weights_error:{len(weights_error)}, #error:{len(error)}\")\n",
    "        for i, layer in enumerate(self.layers[::-1]):\n",
    "            # print(f\"dW[{i}] = {dW[i]}, db[{i}] = {db[i]}\")\n",
    "            layer.weights = layer.weights - (self.learning_rate * dW[i])\n",
    "            layer.bias = layer.bias - (self.learning_rate * db[i])\n",
    "            \n",
    "    def random_initializers(self) -> None:\n",
    "        \"\"\"Make a random start for weights and bias\"\"\"\n",
    "        [layer.random_initializers() for layer in self.layers]\n",
    "    \n",
    "    def fit(self, X: np.ndarray, y: np.ndarray ) -> None:\n",
    "        \"\"\"trains the model using the vector features X and labels Y.\"\"\"\n",
    "        self.hist={\"weights\":[],\"bias\":[],\"loss\":[0], \"frame\":[]}\n",
    "        # random start\n",
    "        self.random_initializers()\n",
    "        for epoch in tqdm(range(self.epochs)):\n",
    "            loss= 0\n",
    "            # for each sample in training set feed-forward and backpropagate\n",
    "            for i, x in enumerate(X):\n",
    "                self.zero_grads()\n",
    "                # feed-forward\n",
    "                # x = X[i].reshape((X[i].shape[0], 1))\n",
    "                # print(f\"X[i].shape:{x.shape}\")\n",
    "                pred = self.forward(x)\n",
    "                # add loss \n",
    "                loss+= self.loss(y[i], pred)\n",
    "                # compute gradient update\n",
    "                dy = self.loss_prime(y[i], pred)\n",
    "                # backward propagation\n",
    "                dW, db = self.backward(dy)\n",
    "                # update weights\n",
    "                self.update_weights(dW= dW, db= db)\n",
    "            \n",
    "            # save epoch train history\n",
    "            self.save_hist(X= X, y= y, i= epoch, loss= loss)\n",
    "            if self.hist[\"loss\"][-1] > self.hist[\"loss\"][-2] and self.early_stop:\n",
    "                break\n",
    "\n",
    "    def save_hist(self, X: np.ndarray, y: np.ndarray, i: int, loss: float,) -> None:\n",
    "        \"\"\"Saves the parameters of the model in between updates of training.\"\"\"\n",
    "        self.hist[\"loss\"].append(loss/X.shape[0])\n",
    "        self.hist[\"bias\"].append([layer.bias for layer in self.layers])\n",
    "        self.hist[\"weights\"].append([layer.weights for layer in self.layers])\n",
    "        print(f'Training Loss for epoch {i}: {self.hist[\"loss\"][-1]}')\n",
    "        \n",
    "        if X.shape[1] == 1:\n",
    "            if self.range_flag:\n",
    "                self.hist[\"x_range\"] = [min(X), max(X)]\n",
    "                self.hist[\"y_range\"] = [min(y), max(y)]\n",
    "                self.range_flag = False\n",
    "\n",
    "            if i % self.eval_step == 0:\n",
    "                y_pred = self.predict(X)\n",
    "                print(f'eval Loss for epoch {i}: {sum(self.loss(y_j, y_pred[j]) for j, y_j in enumerate(y))/y.shape[0]}')\n",
    "                \n",
    "                self.hist[\"frame\"].append(go.Frame(data=[go.Scatter(x=X, y=y, name=\"train\", mode='markers'),\n",
    "                                                    go.Scatter(x=X, y=y_pred, name=\"predict\", mode='markers')]))\n",
    "                \n",
    "def plot(plot_points: Iterable[Tuple[np.ndarray, np.ndarray, str]]) -> go.Figure:\n",
    "    \"\"\"Ploting all the (X, y, plot_name) on the same figure.\"\"\"\n",
    "    fig = make_subplots(specs=[[{\"secondary_y\": False}]])\n",
    "    for X, y, name in plot_points:\n",
    "        fig.add_trace(go.Scatter(x=X, y=y, name=name, mode='markers'))\n",
    "    return fig"
   ]
  },
  {
   "cell_type": "code",
   "execution_count": 133,
   "id": "c362c349-426a-474e-a4ef-05ac2e1b0f44",
   "metadata": {
    "tags": []
   },
   "outputs": [
    {
     "data": {
      "application/vnd.plotly.v1+json": {
       "config": {
        "plotlyServerURL": "https://plot.ly"
       },
       "data": [
        {
         "mode": "markers",
         "name": "traindata",
         "type": "scatter",
         "x": [
          0,
          1,
          2,
          3,
          4,
          5,
          6,
          7,
          8,
          9,
          10,
          11,
          12,
          13,
          14,
          15,
          16,
          17,
          18,
          19,
          20,
          21,
          22,
          23,
          24,
          25,
          26,
          27,
          28,
          29,
          30,
          31,
          32,
          33,
          34,
          35,
          36,
          37,
          38,
          39,
          40,
          41,
          42,
          43,
          44,
          45,
          46,
          47,
          48,
          49,
          50,
          51,
          52,
          53,
          54,
          55,
          56,
          57,
          58,
          59,
          60,
          61,
          62,
          63,
          64,
          65,
          66,
          67,
          68,
          69,
          70,
          71,
          72,
          73,
          74,
          75,
          76,
          77,
          78,
          79,
          80,
          81,
          82,
          83,
          84,
          85,
          86,
          87,
          88,
          89,
          90,
          91,
          92,
          93,
          94,
          95,
          96,
          97,
          98,
          99
         ],
         "y": [
          -40.22844191504942,
          121.19952850885748,
          144.96172544023025,
          -53.60851723261297,
          -80.78260692663481,
          71.86365061491081,
          71.46606200269252,
          -33.32518392345632,
          59.76170064071336,
          -17.71062849254889,
          -65.76873196539196,
          62.63940131898096,
          147.20992236711493,
          -11.802772177150052,
          43.96258946303781,
          -62.873106114089694,
          34.48496286551095,
          -50.94208322766583,
          -84.97715046471542,
          36.848159665703086,
          111.3695965022725,
          47.6487061159283,
          -0.09318746097468825,
          155.07843035271813,
          -37.31162587011175,
          -43.56909367306709,
          -42.212063180048965,
          72.05311045043112,
          57.94525965229457,
          47.802883472549794,
          -108.45603006941228,
          -37.358951406265206,
          -73.88924992755689,
          119.22921289759348,
          -105.96355076448256,
          107.13981775423224,
          73.87107420299392,
          138.87088623981313,
          -113.68897764193548,
          -72.55125003067819,
          145.34507920261996,
          -16.70255290513367,
          -24.168599096551084,
          -147.078116997524,
          102.94747917578634,
          13.68473739451218,
          12.847576475351495,
          -132.79641557565756,
          1.8860982974116547,
          27.1429981169738,
          5.157902013059672,
          -92.6084191604145,
          71.3230421502013,
          47.8679216790956,
          54.23228398138326,
          129.4458088465893,
          42.04992952987218,
          56.219463133367306,
          35.13054353387116,
          -43.80398048653765,
          1.995322656804564,
          -23.082101202665275,
          -68.79265216251946,
          65.45173847935665,
          -55.65121556268075,
          66.31663203773941,
          -50.15216840709069,
          20.33784411960476,
          117.8120950703883,
          -59.942744441061535,
          84.01445024244846,
          0.8589794622610386,
          -49.218442824810495,
          106.25148078477824,
          134.89849745645716,
          -115.875779070194,
          42.33389724045077,
          -70.4754911430795,
          -52.75181513404491,
          160.16900121190633,
          28.718375042976497,
          45.18520883792053,
          16.942337786719616,
          48.55083011712384,
          13.581619287641354,
          64.81342685110238,
          51.25694372869946,
          -92.85526496367903,
          -51.688566640204314,
          13.98689931493217,
          10.110839768323723,
          -112.6863029943036,
          -106.14505006269908,
          -9.678435441999309,
          -15.39672756986158,
          -77.41805720935075,
          15.978143008552935,
          -87.89705332470005,
          -22.137208364626545,
          -60.48862631037337
         ]
        }
       ],
       "layout": {
        "autosize": true,
        "template": {
         "data": {
          "bar": [
           {
            "error_x": {
             "color": "#2a3f5f"
            },
            "error_y": {
             "color": "#2a3f5f"
            },
            "marker": {
             "line": {
              "color": "#E5ECF6",
              "width": 0.5
             },
             "pattern": {
              "fillmode": "overlay",
              "size": 10,
              "solidity": 0.2
             }
            },
            "type": "bar"
           }
          ],
          "barpolar": [
           {
            "marker": {
             "line": {
              "color": "#E5ECF6",
              "width": 0.5
             },
             "pattern": {
              "fillmode": "overlay",
              "size": 10,
              "solidity": 0.2
             }
            },
            "type": "barpolar"
           }
          ],
          "carpet": [
           {
            "aaxis": {
             "endlinecolor": "#2a3f5f",
             "gridcolor": "white",
             "linecolor": "white",
             "minorgridcolor": "white",
             "startlinecolor": "#2a3f5f"
            },
            "baxis": {
             "endlinecolor": "#2a3f5f",
             "gridcolor": "white",
             "linecolor": "white",
             "minorgridcolor": "white",
             "startlinecolor": "#2a3f5f"
            },
            "type": "carpet"
           }
          ],
          "choropleth": [
           {
            "colorbar": {
             "outlinewidth": 0,
             "ticks": ""
            },
            "type": "choropleth"
           }
          ],
          "contour": [
           {
            "colorbar": {
             "outlinewidth": 0,
             "ticks": ""
            },
            "colorscale": [
             [
              0,
              "#0d0887"
             ],
             [
              0.1111111111111111,
              "#46039f"
             ],
             [
              0.2222222222222222,
              "#7201a8"
             ],
             [
              0.3333333333333333,
              "#9c179e"
             ],
             [
              0.4444444444444444,
              "#bd3786"
             ],
             [
              0.5555555555555556,
              "#d8576b"
             ],
             [
              0.6666666666666666,
              "#ed7953"
             ],
             [
              0.7777777777777778,
              "#fb9f3a"
             ],
             [
              0.8888888888888888,
              "#fdca26"
             ],
             [
              1,
              "#f0f921"
             ]
            ],
            "type": "contour"
           }
          ],
          "contourcarpet": [
           {
            "colorbar": {
             "outlinewidth": 0,
             "ticks": ""
            },
            "type": "contourcarpet"
           }
          ],
          "heatmap": [
           {
            "colorbar": {
             "outlinewidth": 0,
             "ticks": ""
            },
            "colorscale": [
             [
              0,
              "#0d0887"
             ],
             [
              0.1111111111111111,
              "#46039f"
             ],
             [
              0.2222222222222222,
              "#7201a8"
             ],
             [
              0.3333333333333333,
              "#9c179e"
             ],
             [
              0.4444444444444444,
              "#bd3786"
             ],
             [
              0.5555555555555556,
              "#d8576b"
             ],
             [
              0.6666666666666666,
              "#ed7953"
             ],
             [
              0.7777777777777778,
              "#fb9f3a"
             ],
             [
              0.8888888888888888,
              "#fdca26"
             ],
             [
              1,
              "#f0f921"
             ]
            ],
            "type": "heatmap"
           }
          ],
          "heatmapgl": [
           {
            "colorbar": {
             "outlinewidth": 0,
             "ticks": ""
            },
            "colorscale": [
             [
              0,
              "#0d0887"
             ],
             [
              0.1111111111111111,
              "#46039f"
             ],
             [
              0.2222222222222222,
              "#7201a8"
             ],
             [
              0.3333333333333333,
              "#9c179e"
             ],
             [
              0.4444444444444444,
              "#bd3786"
             ],
             [
              0.5555555555555556,
              "#d8576b"
             ],
             [
              0.6666666666666666,
              "#ed7953"
             ],
             [
              0.7777777777777778,
              "#fb9f3a"
             ],
             [
              0.8888888888888888,
              "#fdca26"
             ],
             [
              1,
              "#f0f921"
             ]
            ],
            "type": "heatmapgl"
           }
          ],
          "histogram": [
           {
            "marker": {
             "pattern": {
              "fillmode": "overlay",
              "size": 10,
              "solidity": 0.2
             }
            },
            "type": "histogram"
           }
          ],
          "histogram2d": [
           {
            "colorbar": {
             "outlinewidth": 0,
             "ticks": ""
            },
            "colorscale": [
             [
              0,
              "#0d0887"
             ],
             [
              0.1111111111111111,
              "#46039f"
             ],
             [
              0.2222222222222222,
              "#7201a8"
             ],
             [
              0.3333333333333333,
              "#9c179e"
             ],
             [
              0.4444444444444444,
              "#bd3786"
             ],
             [
              0.5555555555555556,
              "#d8576b"
             ],
             [
              0.6666666666666666,
              "#ed7953"
             ],
             [
              0.7777777777777778,
              "#fb9f3a"
             ],
             [
              0.8888888888888888,
              "#fdca26"
             ],
             [
              1,
              "#f0f921"
             ]
            ],
            "type": "histogram2d"
           }
          ],
          "histogram2dcontour": [
           {
            "colorbar": {
             "outlinewidth": 0,
             "ticks": ""
            },
            "colorscale": [
             [
              0,
              "#0d0887"
             ],
             [
              0.1111111111111111,
              "#46039f"
             ],
             [
              0.2222222222222222,
              "#7201a8"
             ],
             [
              0.3333333333333333,
              "#9c179e"
             ],
             [
              0.4444444444444444,
              "#bd3786"
             ],
             [
              0.5555555555555556,
              "#d8576b"
             ],
             [
              0.6666666666666666,
              "#ed7953"
             ],
             [
              0.7777777777777778,
              "#fb9f3a"
             ],
             [
              0.8888888888888888,
              "#fdca26"
             ],
             [
              1,
              "#f0f921"
             ]
            ],
            "type": "histogram2dcontour"
           }
          ],
          "mesh3d": [
           {
            "colorbar": {
             "outlinewidth": 0,
             "ticks": ""
            },
            "type": "mesh3d"
           }
          ],
          "parcoords": [
           {
            "line": {
             "colorbar": {
              "outlinewidth": 0,
              "ticks": ""
             }
            },
            "type": "parcoords"
           }
          ],
          "pie": [
           {
            "automargin": true,
            "type": "pie"
           }
          ],
          "scatter": [
           {
            "fillpattern": {
             "fillmode": "overlay",
             "size": 10,
             "solidity": 0.2
            },
            "type": "scatter"
           }
          ],
          "scatter3d": [
           {
            "line": {
             "colorbar": {
              "outlinewidth": 0,
              "ticks": ""
             }
            },
            "marker": {
             "colorbar": {
              "outlinewidth": 0,
              "ticks": ""
             }
            },
            "type": "scatter3d"
           }
          ],
          "scattercarpet": [
           {
            "marker": {
             "colorbar": {
              "outlinewidth": 0,
              "ticks": ""
             }
            },
            "type": "scattercarpet"
           }
          ],
          "scattergeo": [
           {
            "marker": {
             "colorbar": {
              "outlinewidth": 0,
              "ticks": ""
             }
            },
            "type": "scattergeo"
           }
          ],
          "scattergl": [
           {
            "marker": {
             "colorbar": {
              "outlinewidth": 0,
              "ticks": ""
             }
            },
            "type": "scattergl"
           }
          ],
          "scattermapbox": [
           {
            "marker": {
             "colorbar": {
              "outlinewidth": 0,
              "ticks": ""
             }
            },
            "type": "scattermapbox"
           }
          ],
          "scatterpolar": [
           {
            "marker": {
             "colorbar": {
              "outlinewidth": 0,
              "ticks": ""
             }
            },
            "type": "scatterpolar"
           }
          ],
          "scatterpolargl": [
           {
            "marker": {
             "colorbar": {
              "outlinewidth": 0,
              "ticks": ""
             }
            },
            "type": "scatterpolargl"
           }
          ],
          "scatterternary": [
           {
            "marker": {
             "colorbar": {
              "outlinewidth": 0,
              "ticks": ""
             }
            },
            "type": "scatterternary"
           }
          ],
          "surface": [
           {
            "colorbar": {
             "outlinewidth": 0,
             "ticks": ""
            },
            "colorscale": [
             [
              0,
              "#0d0887"
             ],
             [
              0.1111111111111111,
              "#46039f"
             ],
             [
              0.2222222222222222,
              "#7201a8"
             ],
             [
              0.3333333333333333,
              "#9c179e"
             ],
             [
              0.4444444444444444,
              "#bd3786"
             ],
             [
              0.5555555555555556,
              "#d8576b"
             ],
             [
              0.6666666666666666,
              "#ed7953"
             ],
             [
              0.7777777777777778,
              "#fb9f3a"
             ],
             [
              0.8888888888888888,
              "#fdca26"
             ],
             [
              1,
              "#f0f921"
             ]
            ],
            "type": "surface"
           }
          ],
          "table": [
           {
            "cells": {
             "fill": {
              "color": "#EBF0F8"
             },
             "line": {
              "color": "white"
             }
            },
            "header": {
             "fill": {
              "color": "#C8D4E3"
             },
             "line": {
              "color": "white"
             }
            },
            "type": "table"
           }
          ]
         },
         "layout": {
          "annotationdefaults": {
           "arrowcolor": "#2a3f5f",
           "arrowhead": 0,
           "arrowwidth": 1
          },
          "autotypenumbers": "strict",
          "coloraxis": {
           "colorbar": {
            "outlinewidth": 0,
            "ticks": ""
           }
          },
          "colorscale": {
           "diverging": [
            [
             0,
             "#8e0152"
            ],
            [
             0.1,
             "#c51b7d"
            ],
            [
             0.2,
             "#de77ae"
            ],
            [
             0.3,
             "#f1b6da"
            ],
            [
             0.4,
             "#fde0ef"
            ],
            [
             0.5,
             "#f7f7f7"
            ],
            [
             0.6,
             "#e6f5d0"
            ],
            [
             0.7,
             "#b8e186"
            ],
            [
             0.8,
             "#7fbc41"
            ],
            [
             0.9,
             "#4d9221"
            ],
            [
             1,
             "#276419"
            ]
           ],
           "sequential": [
            [
             0,
             "#0d0887"
            ],
            [
             0.1111111111111111,
             "#46039f"
            ],
            [
             0.2222222222222222,
             "#7201a8"
            ],
            [
             0.3333333333333333,
             "#9c179e"
            ],
            [
             0.4444444444444444,
             "#bd3786"
            ],
            [
             0.5555555555555556,
             "#d8576b"
            ],
            [
             0.6666666666666666,
             "#ed7953"
            ],
            [
             0.7777777777777778,
             "#fb9f3a"
            ],
            [
             0.8888888888888888,
             "#fdca26"
            ],
            [
             1,
             "#f0f921"
            ]
           ],
           "sequentialminus": [
            [
             0,
             "#0d0887"
            ],
            [
             0.1111111111111111,
             "#46039f"
            ],
            [
             0.2222222222222222,
             "#7201a8"
            ],
            [
             0.3333333333333333,
             "#9c179e"
            ],
            [
             0.4444444444444444,
             "#bd3786"
            ],
            [
             0.5555555555555556,
             "#d8576b"
            ],
            [
             0.6666666666666666,
             "#ed7953"
            ],
            [
             0.7777777777777778,
             "#fb9f3a"
            ],
            [
             0.8888888888888888,
             "#fdca26"
            ],
            [
             1,
             "#f0f921"
            ]
           ]
          },
          "colorway": [
           "#636efa",
           "#EF553B",
           "#00cc96",
           "#ab63fa",
           "#FFA15A",
           "#19d3f3",
           "#FF6692",
           "#B6E880",
           "#FF97FF",
           "#FECB52"
          ],
          "font": {
           "color": "#2a3f5f"
          },
          "geo": {
           "bgcolor": "white",
           "lakecolor": "white",
           "landcolor": "#E5ECF6",
           "showlakes": true,
           "showland": true,
           "subunitcolor": "white"
          },
          "hoverlabel": {
           "align": "left"
          },
          "hovermode": "closest",
          "mapbox": {
           "style": "light"
          },
          "paper_bgcolor": "white",
          "plot_bgcolor": "#E5ECF6",
          "polar": {
           "angularaxis": {
            "gridcolor": "white",
            "linecolor": "white",
            "ticks": ""
           },
           "bgcolor": "#E5ECF6",
           "radialaxis": {
            "gridcolor": "white",
            "linecolor": "white",
            "ticks": ""
           }
          },
          "scene": {
           "xaxis": {
            "backgroundcolor": "#E5ECF6",
            "gridcolor": "white",
            "gridwidth": 2,
            "linecolor": "white",
            "showbackground": true,
            "ticks": "",
            "zerolinecolor": "white"
           },
           "yaxis": {
            "backgroundcolor": "#E5ECF6",
            "gridcolor": "white",
            "gridwidth": 2,
            "linecolor": "white",
            "showbackground": true,
            "ticks": "",
            "zerolinecolor": "white"
           },
           "zaxis": {
            "backgroundcolor": "#E5ECF6",
            "gridcolor": "white",
            "gridwidth": 2,
            "linecolor": "white",
            "showbackground": true,
            "ticks": "",
            "zerolinecolor": "white"
           }
          },
          "shapedefaults": {
           "line": {
            "color": "#2a3f5f"
           }
          },
          "ternary": {
           "aaxis": {
            "gridcolor": "white",
            "linecolor": "white",
            "ticks": ""
           },
           "baxis": {
            "gridcolor": "white",
            "linecolor": "white",
            "ticks": ""
           },
           "bgcolor": "#E5ECF6",
           "caxis": {
            "gridcolor": "white",
            "linecolor": "white",
            "ticks": ""
           }
          },
          "title": {
           "x": 0.05
          },
          "xaxis": {
           "automargin": true,
           "gridcolor": "white",
           "linecolor": "white",
           "ticks": "",
           "title": {
            "standoff": 15
           },
           "zerolinecolor": "white",
           "zerolinewidth": 2
          },
          "yaxis": {
           "automargin": true,
           "gridcolor": "white",
           "linecolor": "white",
           "ticks": "",
           "title": {
            "standoff": 15
           },
           "zerolinecolor": "white",
           "zerolinewidth": 2
          }
         }
        },
        "xaxis": {
         "anchor": "y",
         "autorange": true,
         "domain": [
          0,
          1
         ],
         "range": [
          -5.891514806378132,
          104.89151480637813
         ],
         "type": "linear"
        },
        "yaxis": {
         "anchor": "x",
         "autorange": true,
         "domain": [
          0,
          1
         ],
         "range": [
          -172.4334617041275,
          185.52434591850982
         ],
         "type": "linear"
        }
       }
      },
      "image/png": "[encoded data removed]",
      "text/html": [
       "<div>                            <div id=\"7a34443c-53b4-4494-a9ec-e02ffbac315e\" class=\"plotly-graph-div\" style=\"height:525px; width:100%;\"></div>            <script type=\"text/javascript\">                require([\"plotly\"], function(Plotly) {                    window.PLOTLYENV=window.PLOTLYENV || {};                                    if (document.getElementById(\"7a34443c-53b4-4494-a9ec-e02ffbac315e\")) {                    Plotly.newPlot(                        \"7a34443c-53b4-4494-a9ec-e02ffbac315e\",                        [{\"mode\":\"markers\",\"name\":\"traindata\",\"x\":[0,1,2,3,4,5,6,7,8,9,10,11,12,13,14,15,16,17,18,19,20,21,22,23,24,25,26,27,28,29,30,31,32,33,34,35,36,37,38,39,40,41,42,43,44,45,46,47,48,49,50,51,52,53,54,55,56,57,58,59,60,61,62,63,64,65,66,67,68,69,70,71,72,73,74,75,76,77,78,79,80,81,82,83,84,85,86,87,88,89,90,91,92,93,94,95,96,97,98,99],\"y\":[-40.22844191504942,121.19952850885748,144.96172544023025,-53.60851723261297,-80.78260692663481,71.86365061491081,71.46606200269252,-33.32518392345632,59.76170064071336,-17.71062849254889,-65.76873196539196,62.63940131898096,147.20992236711493,-11.802772177150052,43.96258946303781,-62.873106114089694,34.48496286551095,-50.94208322766583,-84.97715046471542,36.848159665703086,111.3695965022725,47.6487061159283,-0.09318746097468825,155.07843035271813,-37.31162587011175,-43.56909367306709,-42.212063180048965,72.05311045043112,57.94525965229457,47.802883472549794,-108.45603006941228,-37.358951406265206,-73.88924992755689,119.22921289759348,-105.96355076448256,107.13981775423224,73.87107420299392,138.87088623981313,-113.68897764193548,-72.55125003067819,145.34507920261996,-16.70255290513367,-24.168599096551084,-147.078116997524,102.94747917578634,13.68473739451218,12.847576475351495,-132.79641557565756,1.8860982974116547,27.1429981169738,5.157902013059672,-92.6084191604145,71.3230421502013,47.8679216790956,54.23228398138326,129.4458088465893,42.04992952987218,56.219463133367306,35.13054353387116,-43.80398048653765,1.995322656804564,-23.082101202665275,-68.79265216251946,65.45173847935665,-55.65121556268075,66.31663203773941,-50.15216840709069,20.33784411960476,117.8120950703883,-59.942744441061535,84.01445024244846,0.8589794622610386,-49.218442824810495,106.25148078477824,134.89849745645716,-115.875779070194,42.33389724045077,-70.4754911430795,-52.75181513404491,160.16900121190633,28.718375042976497,45.18520883792053,16.942337786719616,48.55083011712384,13.581619287641354,64.81342685110238,51.25694372869946,-92.85526496367903,-51.688566640204314,13.98689931493217,10.110839768323723,-112.6863029943036,-106.14505006269908,-9.678435441999309,-15.39672756986158,-77.41805720935075,15.978143008552935,-87.89705332470005,-22.137208364626545,-60.48862631037337],\"type\":\"scatter\"}],                        {\"template\":{\"data\":{\"histogram2dcontour\":[{\"type\":\"histogram2dcontour\",\"colorbar\":{\"outlinewidth\":0,\"ticks\":\"\"},\"colorscale\":[[0.0,\"#0d0887\"],[0.1111111111111111,\"#46039f\"],[0.2222222222222222,\"#7201a8\"],[0.3333333333333333,\"#9c179e\"],[0.4444444444444444,\"#bd3786\"],[0.5555555555555556,\"#d8576b\"],[0.6666666666666666,\"#ed7953\"],[0.7777777777777778,\"#fb9f3a\"],[0.8888888888888888,\"#fdca26\"],[1.0,\"#f0f921\"]]}],\"choropleth\":[{\"type\":\"choropleth\",\"colorbar\":{\"outlinewidth\":0,\"ticks\":\"\"}}],\"histogram2d\":[{\"type\":\"histogram2d\",\"colorbar\":{\"outlinewidth\":0,\"ticks\":\"\"},\"colorscale\":[[0.0,\"#0d0887\"],[0.1111111111111111,\"#46039f\"],[0.2222222222222222,\"#7201a8\"],[0.3333333333333333,\"#9c179e\"],[0.4444444444444444,\"#bd3786\"],[0.5555555555555556,\"#d8576b\"],[0.6666666666666666,\"#ed7953\"],[0.7777777777777778,\"#fb9f3a\"],[0.8888888888888888,\"#fdca26\"],[1.0,\"#f0f921\"]]}],\"heatmap\":[{\"type\":\"heatmap\",\"colorbar\":{\"outlinewidth\":0,\"ticks\":\"\"},\"colorscale\":[[0.0,\"#0d0887\"],[0.1111111111111111,\"#46039f\"],[0.2222222222222222,\"#7201a8\"],[0.3333333333333333,\"#9c179e\"],[0.4444444444444444,\"#bd3786\"],[0.5555555555555556,\"#d8576b\"],[0.6666666666666666,\"#ed7953\"],[0.7777777777777778,\"#fb9f3a\"],[0.8888888888888888,\"#fdca26\"],[1.0,\"#f0f921\"]]}],\"heatmapgl\":[{\"type\":\"heatmapgl\",\"colorbar\":{\"outlinewidth\":0,\"ticks\":\"\"},\"colorscale\":[[0.0,\"#0d0887\"],[0.1111111111111111,\"#46039f\"],[0.2222222222222222,\"#7201a8\"],[0.3333333333333333,\"#9c179e\"],[0.4444444444444444,\"#bd3786\"],[0.5555555555555556,\"#d8576b\"],[0.6666666666666666,\"#ed7953\"],[0.7777777777777778,\"#fb9f3a\"],[0.8888888888888888,\"#fdca26\"],[1.0,\"#f0f921\"]]}],\"contourcarpet\":[{\"type\":\"contourcarpet\",\"colorbar\":{\"outlinewidth\":0,\"ticks\":\"\"}}],\"contour\":[{\"type\":\"contour\",\"colorbar\":{\"outlinewidth\":0,\"ticks\":\"\"},\"colorscale\":[[0.0,\"#0d0887\"],[0.1111111111111111,\"#46039f\"],[0.2222222222222222,\"#7201a8\"],[0.3333333333333333,\"#9c179e\"],[0.4444444444444444,\"#bd3786\"],[0.5555555555555556,\"#d8576b\"],[0.6666666666666666,\"#ed7953\"],[0.7777777777777778,\"#fb9f3a\"],[0.8888888888888888,\"#fdca26\"],[1.0,\"#f0f921\"]]}],\"surface\":[{\"type\":\"surface\",\"colorbar\":{\"outlinewidth\":0,\"ticks\":\"\"},\"colorscale\":[[0.0,\"#0d0887\"],[0.1111111111111111,\"#46039f\"],[0.2222222222222222,\"#7201a8\"],[0.3333333333333333,\"#9c179e\"],[0.4444444444444444,\"#bd3786\"],[0.5555555555555556,\"#d8576b\"],[0.6666666666666666,\"#ed7953\"],[0.7777777777777778,\"#fb9f3a\"],[0.8888888888888888,\"#fdca26\"],[1.0,\"#f0f921\"]]}],\"mesh3d\":[{\"type\":\"mesh3d\",\"colorbar\":{\"outlinewidth\":0,\"ticks\":\"\"}}],\"scatter\":[{\"fillpattern\":{\"fillmode\":\"overlay\",\"size\":10,\"solidity\":0.2},\"type\":\"scatter\"}],\"parcoords\":[{\"type\":\"parcoords\",\"line\":{\"colorbar\":{\"outlinewidth\":0,\"ticks\":\"\"}}}],\"scatterpolargl\":[{\"type\":\"scatterpolargl\",\"marker\":{\"colorbar\":{\"outlinewidth\":0,\"ticks\":\"\"}}}],\"bar\":[{\"error_x\":{\"color\":\"#2a3f5f\"},\"error_y\":{\"color\":\"#2a3f5f\"},\"marker\":{\"line\":{\"color\":\"#E5ECF6\",\"width\":0.5},\"pattern\":{\"fillmode\":\"overlay\",\"size\":10,\"solidity\":0.2}},\"type\":\"bar\"}],\"scattergeo\":[{\"type\":\"scattergeo\",\"marker\":{\"colorbar\":{\"outlinewidth\":0,\"ticks\":\"\"}}}],\"scatterpolar\":[{\"type\":\"scatterpolar\",\"marker\":{\"colorbar\":{\"outlinewidth\":0,\"ticks\":\"\"}}}],\"histogram\":[{\"marker\":{\"pattern\":{\"fillmode\":\"overlay\",\"size\":10,\"solidity\":0.2}},\"type\":\"histogram\"}],\"scattergl\":[{\"type\":\"scattergl\",\"marker\":{\"colorbar\":{\"outlinewidth\":0,\"ticks\":\"\"}}}],\"scatter3d\":[{\"type\":\"scatter3d\",\"line\":{\"colorbar\":{\"outlinewidth\":0,\"ticks\":\"\"}},\"marker\":{\"colorbar\":{\"outlinewidth\":0,\"ticks\":\"\"}}}],\"scattermapbox\":[{\"type\":\"scattermapbox\",\"marker\":{\"colorbar\":{\"outlinewidth\":0,\"ticks\":\"\"}}}],\"scatterternary\":[{\"type\":\"scatterternary\",\"marker\":{\"colorbar\":{\"outlinewidth\":0,\"ticks\":\"\"}}}],\"scattercarpet\":[{\"type\":\"scattercarpet\",\"marker\":{\"colorbar\":{\"outlinewidth\":0,\"ticks\":\"\"}}}],\"carpet\":[{\"aaxis\":{\"endlinecolor\":\"#2a3f5f\",\"gridcolor\":\"white\",\"linecolor\":\"white\",\"minorgridcolor\":\"white\",\"startlinecolor\":\"#2a3f5f\"},\"baxis\":{\"endlinecolor\":\"#2a3f5f\",\"gridcolor\":\"white\",\"linecolor\":\"white\",\"minorgridcolor\":\"white\",\"startlinecolor\":\"#2a3f5f\"},\"type\":\"carpet\"}],\"table\":[{\"cells\":{\"fill\":{\"color\":\"#EBF0F8\"},\"line\":{\"color\":\"white\"}},\"header\":{\"fill\":{\"color\":\"#C8D4E3\"},\"line\":{\"color\":\"white\"}},\"type\":\"table\"}],\"barpolar\":[{\"marker\":{\"line\":{\"color\":\"#E5ECF6\",\"width\":0.5},\"pattern\":{\"fillmode\":\"overlay\",\"size\":10,\"solidity\":0.2}},\"type\":\"barpolar\"}],\"pie\":[{\"automargin\":true,\"type\":\"pie\"}]},\"layout\":{\"autotypenumbers\":\"strict\",\"colorway\":[\"#636efa\",\"#EF553B\",\"#00cc96\",\"#ab63fa\",\"#FFA15A\",\"#19d3f3\",\"#FF6692\",\"#B6E880\",\"#FF97FF\",\"#FECB52\"],\"font\":{\"color\":\"#2a3f5f\"},\"hovermode\":\"closest\",\"hoverlabel\":{\"align\":\"left\"},\"paper_bgcolor\":\"white\",\"plot_bgcolor\":\"#E5ECF6\",\"polar\":{\"bgcolor\":\"#E5ECF6\",\"angularaxis\":{\"gridcolor\":\"white\",\"linecolor\":\"white\",\"ticks\":\"\"},\"radialaxis\":{\"gridcolor\":\"white\",\"linecolor\":\"white\",\"ticks\":\"\"}},\"ternary\":{\"bgcolor\":\"#E5ECF6\",\"aaxis\":{\"gridcolor\":\"white\",\"linecolor\":\"white\",\"ticks\":\"\"},\"baxis\":{\"gridcolor\":\"white\",\"linecolor\":\"white\",\"ticks\":\"\"},\"caxis\":{\"gridcolor\":\"white\",\"linecolor\":\"white\",\"ticks\":\"\"}},\"coloraxis\":{\"colorbar\":{\"outlinewidth\":0,\"ticks\":\"\"}},\"colorscale\":{\"sequential\":[[0.0,\"#0d0887\"],[0.1111111111111111,\"#46039f\"],[0.2222222222222222,\"#7201a8\"],[0.3333333333333333,\"#9c179e\"],[0.4444444444444444,\"#bd3786\"],[0.5555555555555556,\"#d8576b\"],[0.6666666666666666,\"#ed7953\"],[0.7777777777777778,\"#fb9f3a\"],[0.8888888888888888,\"#fdca26\"],[1.0,\"#f0f921\"]],\"sequentialminus\":[[0.0,\"#0d0887\"],[0.1111111111111111,\"#46039f\"],[0.2222222222222222,\"#7201a8\"],[0.3333333333333333,\"#9c179e\"],[0.4444444444444444,\"#bd3786\"],[0.5555555555555556,\"#d8576b\"],[0.6666666666666666,\"#ed7953\"],[0.7777777777777778,\"#fb9f3a\"],[0.8888888888888888,\"#fdca26\"],[1.0,\"#f0f921\"]],\"diverging\":[[0,\"#8e0152\"],[0.1,\"#c51b7d\"],[0.2,\"#de77ae\"],[0.3,\"#f1b6da\"],[0.4,\"#fde0ef\"],[0.5,\"#f7f7f7\"],[0.6,\"#e6f5d0\"],[0.7,\"#b8e186\"],[0.8,\"#7fbc41\"],[0.9,\"#4d9221\"],[1,\"#276419\"]]},\"xaxis\":{\"gridcolor\":\"white\",\"linecolor\":\"white\",\"ticks\":\"\",\"title\":{\"standoff\":15},\"zerolinecolor\":\"white\",\"automargin\":true,\"zerolinewidth\":2},\"yaxis\":{\"gridcolor\":\"white\",\"linecolor\":\"white\",\"ticks\":\"\",\"title\":{\"standoff\":15},\"zerolinecolor\":\"white\",\"automargin\":true,\"zerolinewidth\":2},\"scene\":{\"xaxis\":{\"backgroundcolor\":\"#E5ECF6\",\"gridcolor\":\"white\",\"linecolor\":\"white\",\"showbackground\":true,\"ticks\":\"\",\"zerolinecolor\":\"white\",\"gridwidth\":2},\"yaxis\":{\"backgroundcolor\":\"#E5ECF6\",\"gridcolor\":\"white\",\"linecolor\":\"white\",\"showbackground\":true,\"ticks\":\"\",\"zerolinecolor\":\"white\",\"gridwidth\":2},\"zaxis\":{\"backgroundcolor\":\"#E5ECF6\",\"gridcolor\":\"white\",\"linecolor\":\"white\",\"showbackground\":true,\"ticks\":\"\",\"zerolinecolor\":\"white\",\"gridwidth\":2}},\"shapedefaults\":{\"line\":{\"color\":\"#2a3f5f\"}},\"annotationdefaults\":{\"arrowcolor\":\"#2a3f5f\",\"arrowhead\":0,\"arrowwidth\":1},\"geo\":{\"bgcolor\":\"white\",\"landcolor\":\"#E5ECF6\",\"subunitcolor\":\"white\",\"showland\":true,\"showlakes\":true,\"lakecolor\":\"white\"},\"title\":{\"x\":0.05},\"mapbox\":{\"style\":\"light\"}}},\"xaxis\":{\"anchor\":\"y\",\"domain\":[0.0,1.0]},\"yaxis\":{\"anchor\":\"x\",\"domain\":[0.0,1.0]}},                        {\"responsive\": true}                    ).then(function(){\n",
       "                            \n",
       "var gd = document.getElementById('7a34443c-53b4-4494-a9ec-e02ffbac315e');\n",
       "var x = new MutationObserver(function (mutations, observer) {{\n",
       "        var display = window.getComputedStyle(gd).display;\n",
       "        if (!display || display === 'none') {{\n",
       "            console.log([gd, 'removed!']);\n",
       "            Plotly.purge(gd);\n",
       "            observer.disconnect();\n",
       "        }}\n",
       "}});\n",
       "\n",
       "// Listen for the removal of the full notebook cells\n",
       "var notebookContainer = gd.closest('#notebook-container');\n",
       "if (notebookContainer) {{\n",
       "    x.observe(notebookContainer, {childList: true});\n",
       "}}\n",
       "\n",
       "// Listen for the clearing of the current output cell\n",
       "var outputEl = gd.closest('.output');\n",
       "if (outputEl) {{\n",
       "    x.observe(outputEl, {childList: true});\n",
       "}}\n",
       "\n",
       "                        })                };                });            </script>        </div>"
      ]
     },
     "metadata": {},
     "output_type": "display_data"
    }
   ],
   "source": [
    "dataloader = load_csv(\"\")\n",
    "plot(plot_points= [(np.arange(0, len(dataloader[\"X_train\"])), dataloader[\"Y_train\"].to_numpy().reshape(100), \"traindata\")] )"
   ]
  },
  {
   "cell_type": "code",
   "execution_count": null,
   "id": "0f8639a0-d7a9-446d-867c-3b9f2b7247f4",
   "metadata": {
    "scrolled": true,
    "tags": []
   },
   "outputs": [
    {
     "name": "stderr",
     "output_type": "stream",
     "text": [
      "  0%|                                                                                      | 0/1000 [00:00<?, ?it/s]"
     ]
    }
   ],
   "source": [
    "# activation function and its derivative\n",
    "tanh = lambda x: np.tanh(x)\n",
    "tanh_prime = lambda x: 1-np.tanh(x)**2 \n",
    "mse = lambda y, y_pred: np.mean((y-y_pred)**2)\n",
    "mse_prime = lambda y, y_pred : 2*(y_pred - y)/y.shape[0];\n",
    "\n",
    "# training data\n",
    "x_train = np.array([[[0,0]], [[0,1]], [[1,0]], [[1,1]]])\n",
    "y_train = np.array([[[0]], [[1]], [[1]], [[0]]])\n",
    "\n",
    "# x_train = dataloader[\"X_train\"].to_numpy().reshape((dataloader[\"X_train\"].shape[0],1,dataloader[\"X_train\"].shape[1]))\n",
    "# y_train = dataloader[\"Y_train\"].to_numpy().reshape((dataloader[\"Y_train\"].shape[0],1,dataloader[\"Y_train\"].shape[1]))\n",
    "\n",
    "# network\n",
    "model = MLP(optimizer= None, hist= {}, learning_rate=0.1,\n",
    "            epochs = 1000, eval_step=10, early_stop= False,\n",
    "            range_flag= False, loss= mse, loss_prime=mse_prime,\n",
    "            layers=[\n",
    "                FCLayer(input_size=x_train.shape[2], output_size=3, \n",
    "                            activation=tanh, activation_prime=tanh_prime,\n",
    "                        ),\n",
    "                FCLayer(input_size=3, output_size=1, \n",
    "                            activation=tanh, activation_prime=tanh_prime,\n",
    "                        ),\n",
    "                   ],\n",
    "            )\n",
    "\n",
    "model.fit(x_train, y_train)"
   ]
  },
  {
   "cell_type": "code",
   "execution_count": 38,
   "id": "9eb06d80-485e-4b94-99f3-23e88211f765",
   "metadata": {
    "collapsed": true,
    "jupyter": {
     "outputs_hidden": true,
     "source_hidden": true
    },
    "scrolled": true,
    "tags": []
   },
   "outputs": [
    {
     "name": "stdout",
     "output_type": "stream",
     "text": [
      "dW = [[ 0.0187423 ]\n",
      " [-0.08377632]\n",
      " [ 0.07978293]\n",
      " [-0.13177034]\n",
      " [ 0.22361747]\n",
      " [ 0.09283401]\n",
      " [-0.25815805]\n",
      " [-0.26488927]\n",
      " [-0.23948734]\n",
      " [ 0.03140907]], db= [[-0.59261206]]\n",
      "dW = [[-0.  0. -0.  0. -0.  0.  0.  0. -0. -0.]\n",
      " [-0.  0. -0.  0. -0.  0.  0.  0. -0. -0.]], db= [[-0.02485893  0.27306975 -0.02439339  0.08974973 -0.01158514  0.21333425\n",
      "   0.11130554  0.16774881 -0.19340832 -0.07161404]]\n",
      "dW = [[ 0.0661716 ]\n",
      " [ 0.35038733]\n",
      " [ 0.87322062]\n",
      " [ 0.04341744]\n",
      " [-0.10091153]\n",
      " [-0.27006913]\n",
      " [-0.7172301 ]\n",
      " [-0.29739816]\n",
      " [-1.28232392]\n",
      " [-0.74550195]], db= [[-1.75321986]]\n",
      "dW = [[-0.00000000e+00  0.00000000e+00 -0.00000000e+00  0.00000000e+00\n",
      "  -0.00000000e+00  0.00000000e+00  0.00000000e+00  0.00000000e+00\n",
      "  -0.00000000e+00 -0.00000000e+00]\n",
      " [-7.02316865e-02  7.77314086e-01 -4.47483557e-02  2.56072389e-01\n",
      "  -7.57064132e-04  6.47555539e-01  3.00716598e-01  5.57240048e-01\n",
      "  -3.37555217e-01 -1.69537304e-01]], db= [[-7.02316865e-02  7.77314086e-01 -4.47483557e-02  2.56072389e-01\n",
      "  -7.57064132e-04  6.47555539e-01  3.00716598e-01  5.57240048e-01\n",
      "  -3.37555217e-01 -1.69537304e-01]]\n",
      "dW = [[-0.24943942]\n",
      " [-0.18552899]\n",
      " [ 0.3536101 ]\n",
      " [ 0.09388678]\n",
      " [ 0.48097515]\n",
      " [ 0.49382587]\n",
      " [-0.29026862]\n",
      " [-0.43426151]\n",
      " [-0.82649344]\n",
      " [ 0.31301148]], db= [[-1.21960148]]\n",
      "dW = [[-0.03914604  0.59193369  0.05962731  0.18244981 -0.01083928  0.35822524\n",
      "   0.15448521  0.3168457  -0.35761856 -0.21941645]\n",
      " [-0.          0.          0.          0.         -0.          0.\n",
      "   0.          0.         -0.         -0.        ]], db= [[-0.03914604  0.59193369  0.05962731  0.18244981 -0.01083928  0.35822524\n",
      "   0.15448521  0.3168457  -0.35761856 -0.21941645]]\n",
      "dW = [[ 0.1136666 ]\n",
      " [-0.18660071]\n",
      " [-0.33301174]\n",
      " [-0.19639974]\n",
      " [ 0.02088601]\n",
      " [-0.12273924]\n",
      " [ 0.08594059]\n",
      " [-0.02136367]\n",
      " [ 0.47968309]\n",
      " [ 0.15644059]], db= [[0.53998564]]\n",
      "dW = [[ 0.03015983 -0.22743054 -0.02969347 -0.07491142 -0.02025859 -0.20519586\n",
      "  -0.05539273 -0.13698945  0.07115792  0.07978579]\n",
      " [ 0.03015983 -0.22743054 -0.02969347 -0.07491142 -0.02025859 -0.20519586\n",
      "  -0.05539273 -0.13698945  0.07115792  0.07978579]], db= [[ 0.03015983 -0.22743054 -0.02969347 -0.07491142 -0.02025859 -0.20519586\n",
      "  -0.05539273 -0.13698945  0.07115792  0.07978579]]\n",
      "epoch 1/1   error=0.507828\n",
      "[array([[0.33486055]]), array([[0.64470186]]), array([[0.52046123]]), array([[0.73419993]])]\n"
     ]
    }
   ],
   "source": [
    "# Base class\n",
    "class Layer:\n",
    "    def __init__(self):\n",
    "        self.input = None\n",
    "        self.output = None\n",
    "\n",
    "    # computes the output Y of a layer for a given input X\n",
    "    def forward_propagation(self, input):\n",
    "        raise NotImplementedError\n",
    "\n",
    "    # computes dE/dX for a given dE/dY (and update parameters if any)\n",
    "    def backward_propagation(self, output_error, learning_rate):\n",
    "        raise NotImplementedError\n",
    "        \n",
    "# inherit from base class Layer\n",
    "class FCLayer(Layer):\n",
    "    # input_size = number of input neurons\n",
    "    # output_size = number of output neurons\n",
    "    def __init__(self, input_size, output_size):\n",
    "        self.weights = np.random.rand(input_size, output_size) - 0.5\n",
    "        self.bias = np.random.rand(1, output_size) - 0.5\n",
    "\n",
    "    # returns output for a given input\n",
    "    def forward_propagation(self, input_data):\n",
    "        self.input = input_data\n",
    "        self.output = np.dot(self.input, self.weights) + self.bias\n",
    "        return self.output\n",
    "\n",
    "    # computes dE/dW, dE/dB for a given output_error=dE/dY. Returns input_error=dE/dX.\n",
    "    def backward_propagation(self, output_error, learning_rate):\n",
    "        \n",
    "        # print(f\"error.shape= {output_error.shape}\")\n",
    "        # print(f\"error= {output_error.shape}, W.T= {self.weights.T.shape}\")\n",
    "        # print(f\"x.T={self.input.T.shape}, error= {output_error.shape}\")\n",
    "       \n",
    "        \n",
    "        \n",
    "        input_error = np.dot(output_error, self.weights.T)\n",
    "        weights_error = np.dot(self.input.T, output_error)\n",
    "        # dBias = output_error\n",
    "\n",
    "        # update parameters\n",
    "        print(f\"dW = {weights_error}, db= {output_error}\")\n",
    "        self.weights -= learning_rate * weights_error\n",
    "        self.bias -= learning_rate * output_error\n",
    "        return input_error\n",
    "    \n",
    "# inherit from base class Layer\n",
    "class ActivationLayer(Layer):\n",
    "    def __init__(self, activation, activation_prime):\n",
    "        self.activation = activation\n",
    "        self.activation_prime = activation_prime\n",
    "\n",
    "    # returns the activated input\n",
    "    def forward_propagation(self, input_data):\n",
    "        self.input = input_data\n",
    "        self.output = self.activation(self.input)\n",
    "        return self.output\n",
    "\n",
    "    # Returns input_error=dE/dX for a given output_error=dE/dY.\n",
    "    # learning_rate is not used because there is no \"learnable\" parameters.\n",
    "    def backward_propagation(self, output_error, learning_rate):\n",
    "        return self.activation_prime(self.input) * output_error\n",
    "    \n",
    "# activation function and its derivative\n",
    "def tanh(x):\n",
    "    return np.tanh(x);\n",
    "\n",
    "def tanh_prime(x):\n",
    "    return 1-np.tanh(x)**2;\n",
    "\n",
    "# loss function and its derivative\n",
    "def mse(y_true, y_pred):\n",
    "    return np.mean(np.power(y_true-y_pred, 2));\n",
    "\n",
    "def mse_prime(y_true, y_pred):\n",
    "    return 2*(y_pred-y_true)/y_true.size;\n",
    "\n",
    "class Network:\n",
    "    def __init__(self):\n",
    "        self.layers = []\n",
    "        self.loss = None\n",
    "        self.loss_prime = None\n",
    "\n",
    "    # add layer to network\n",
    "    def add(self, layer):\n",
    "        self.layers.append(layer)\n",
    "\n",
    "    # set loss to use\n",
    "    def use(self, loss, loss_prime):\n",
    "        self.loss = loss\n",
    "        self.loss_prime = loss_prime\n",
    "\n",
    "    # predict output for given input\n",
    "    def predict(self, input_data):\n",
    "        # sample dimension first\n",
    "        samples = len(input_data)\n",
    "        result = []\n",
    "\n",
    "        # run network over all samples\n",
    "        for i in range(samples):\n",
    "            # forward propagation\n",
    "            output = input_data[i]\n",
    "            for layer in self.layers:\n",
    "                output = layer.forward_propagation(output)\n",
    "            result.append(output)\n",
    "\n",
    "        return result\n",
    "\n",
    "    # train the network\n",
    "    def fit(self, x_train, y_train, epochs, learning_rate):\n",
    "        # sample dimension first\n",
    "        samples = len(x_train)\n",
    "\n",
    "        # training loop\n",
    "        for i in range(epochs):\n",
    "            err = 0\n",
    "            for j in range(samples):\n",
    "                # forward propagation\n",
    "                output = x_train[j]\n",
    "                for layer in self.layers:\n",
    "                    output = layer.forward_propagation(output)\n",
    "\n",
    "                # compute loss (for display purpose only)\n",
    "                err += self.loss(y_train[j], output)\n",
    "\n",
    "                # backward propagation\n",
    "                error = self.loss_prime(y_train[j], output)\n",
    "                for layer in reversed(self.layers):\n",
    "                    error = layer.backward_propagation(error, learning_rate)\n",
    "\n",
    "            # calculate average error on all samples\n",
    "            err /= samples\n",
    "            print('epoch %d/%d   error=%f' % (i+1, epochs, err))\n",
    "            \n",
    "# training data\n",
    "x_train = np.array([[[0,0]], [[0,1]], [[1,0]], [[1,1]]])\n",
    "y_train = np.array([[[0]], [[1]], [[1]], [[0]]])\n",
    "\n",
    "# x_train = dataloader[\"X_train\"].to_numpy().reshape((dataloader[\"X_train\"].shape[0],1,dataloader[\"X_train\"].shape[1]))\n",
    "# y_train = dataloader[\"Y_train\"].to_numpy().reshape((dataloader[\"Y_train\"].shape[0],1,dataloader[\"Y_train\"].shape[1]))\n",
    "\n",
    "# network\n",
    "net = Network()\n",
    "net.add(FCLayer(x_train.shape[2], 10))\n",
    "net.add(ActivationLayer(tanh, tanh_prime))\n",
    "net.add(FCLayer(10, 1))\n",
    "net.add(ActivationLayer(tanh, tanh_prime))\n",
    "\n",
    "# train\n",
    "net.use(mse, mse_prime)\n",
    "net.fit(x_train, y_train, epochs=1, learning_rate=0.1)\n",
    "\n",
    "# test\n",
    "out = net.predict(x_train)\n",
    "print(out)"
   ]
  }
 ],
 "metadata": {
  "kernelspec": {
   "display_name": "ml-course",
   "language": "python",
   "name": "ml-course"
  },
  "language_info": {
   "codemirror_mode": {
    "name": "ipython",
    "version": 3
   },
   "file_extension": ".py",
   "mimetype": "text/x-python",
   "name": "python",
   "nbconvert_exporter": "python",
   "pygments_lexer": "ipython3",
   "version": "3.9.13"
  }
 },
 "nbformat": 4,
 "nbformat_minor": 5
}
